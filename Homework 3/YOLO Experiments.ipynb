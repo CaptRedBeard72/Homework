{
 "cells": [
  {
   "cell_type": "markdown",
   "metadata": {},
   "source": [
    "Homework 3: Using a pre-collected and preprocessed data set \"coco128.yaml\" (done with Roboflow) I will run the \"yolov8n.pt\" model and evaluate how the model trains the test dataset using mAP. Visulizations and graphs will be included to represent the validity of my experiments and will be separated based on which experiment is being ran. "
   ]
  },
  {
   "cell_type": "code",
   "execution_count": 5,
   "metadata": {},
   "outputs": [
    {
     "name": "stdout",
     "output_type": "stream",
     "text": [
      "\n",
      "                   from  n    params  module                                       arguments                     \n",
      "  0                  -1  1       464  ultralytics.nn.modules.conv.Conv             [3, 16, 3, 2]                 \n",
      "  1                  -1  1      4672  ultralytics.nn.modules.conv.Conv             [16, 32, 3, 2]                \n",
      "  2                  -1  1      7360  ultralytics.nn.modules.block.C2f             [32, 32, 1, True]             \n",
      "  3                  -1  1     18560  ultralytics.nn.modules.conv.Conv             [32, 64, 3, 2]                \n",
      "  4                  -1  2     49664  ultralytics.nn.modules.block.C2f             [64, 64, 2, True]             \n",
      "  5                  -1  1     73984  ultralytics.nn.modules.conv.Conv             [64, 128, 3, 2]               \n",
      "  6                  -1  2    197632  ultralytics.nn.modules.block.C2f             [128, 128, 2, True]           \n",
      "  7                  -1  1    295424  ultralytics.nn.modules.conv.Conv             [128, 256, 3, 2]              \n",
      "  8                  -1  1    460288  ultralytics.nn.modules.block.C2f             [256, 256, 1, True]           \n",
      "  9                  -1  1    164608  ultralytics.nn.modules.block.SPPF            [256, 256, 5]                 \n",
      " 10                  -1  1         0  torch.nn.modules.upsampling.Upsample         [None, 2, 'nearest']          \n",
      " 11             [-1, 6]  1         0  ultralytics.nn.modules.conv.Concat           [1]                           \n",
      " 12                  -1  1    148224  ultralytics.nn.modules.block.C2f             [384, 128, 1]                 \n",
      " 13                  -1  1         0  torch.nn.modules.upsampling.Upsample         [None, 2, 'nearest']          \n",
      " 14             [-1, 4]  1         0  ultralytics.nn.modules.conv.Concat           [1]                           \n",
      " 15                  -1  1     37248  ultralytics.nn.modules.block.C2f             [192, 64, 1]                  \n",
      " 16                  -1  1     36992  ultralytics.nn.modules.conv.Conv             [64, 64, 3, 2]                \n",
      " 17            [-1, 12]  1         0  ultralytics.nn.modules.conv.Concat           [1]                           \n",
      " 18                  -1  1    123648  ultralytics.nn.modules.block.C2f             [192, 128, 1]                 \n",
      " 19                  -1  1    147712  ultralytics.nn.modules.conv.Conv             [128, 128, 3, 2]              \n",
      " 20             [-1, 9]  1         0  ultralytics.nn.modules.conv.Concat           [1]                           \n",
      " 21                  -1  1    493056  ultralytics.nn.modules.block.C2f             [384, 256, 1]                 \n",
      " 22        [15, 18, 21]  1    897664  ultralytics.nn.modules.head.Detect           [80, [64, 128, 256]]          \n",
      "YOLOv8n summary: 225 layers, 3157200 parameters, 3157184 gradients, 8.9 GFLOPs\n",
      "\n",
      "New https://pypi.org/project/ultralytics/8.0.223 available 😃 Update with 'pip install -U ultralytics'\n",
      "Ultralytics YOLOv8.0.222 🚀 Python-3.10.12 torch-2.1.1+cu121 CUDA:0 (NVIDIA GeForce RTX 2080 SUPER, 7972MiB)\n",
      "\u001b[34m\u001b[1mengine/trainer: \u001b[0mtask=detect, mode=train, model=yolov8n.pt, data=coco128.yaml, epochs=3, patience=50, batch=16, imgsz=640, save=True, save_period=-1, cache=False, device=None, workers=8, project=None, name=train, exist_ok=False, pretrained=True, optimizer=auto, verbose=True, seed=0, deterministic=True, single_cls=False, rect=False, cos_lr=False, close_mosaic=10, resume=False, amp=True, fraction=1.0, profile=False, freeze=None, overlap_mask=True, mask_ratio=4, dropout=0.0, val=True, split=val, save_json=False, save_hybrid=False, conf=None, iou=0.7, max_det=300, half=False, dnn=False, plots=True, source=None, vid_stride=1, stream_buffer=False, visualize=False, augment=False, agnostic_nms=False, classes=None, retina_masks=False, show=False, save_frames=False, save_txt=False, save_conf=False, save_crop=False, show_labels=True, show_conf=True, show_boxes=True, line_width=None, format=torchscript, keras=False, optimize=False, int8=False, dynamic=False, simplify=False, opset=None, workspace=4, nms=False, lr0=0.01, lrf=0.01, momentum=0.937, weight_decay=0.0005, warmup_epochs=3.0, warmup_momentum=0.8, warmup_bias_lr=0.1, box=7.5, cls=0.5, dfl=1.5, pose=12.0, kobj=1.0, label_smoothing=0.0, nbs=64, hsv_h=0.015, hsv_s=0.7, hsv_v=0.4, degrees=0.0, translate=0.1, scale=0.5, shear=0.0, perspective=0.0, flipud=0.0, fliplr=0.5, mosaic=1.0, mixup=0.0, copy_paste=0.0, cfg=None, tracker=botsort.yaml, save_dir=runs/detect/train\n",
      "\n",
      "                   from  n    params  module                                       arguments                     \n",
      "  0                  -1  1       464  ultralytics.nn.modules.conv.Conv             [3, 16, 3, 2]                 \n",
      "  1                  -1  1      4672  ultralytics.nn.modules.conv.Conv             [16, 32, 3, 2]                \n",
      "  2                  -1  1      7360  ultralytics.nn.modules.block.C2f             [32, 32, 1, True]             \n",
      "  3                  -1  1     18560  ultralytics.nn.modules.conv.Conv             [32, 64, 3, 2]                \n",
      "  4                  -1  2     49664  ultralytics.nn.modules.block.C2f             [64, 64, 2, True]             \n",
      "  5                  -1  1     73984  ultralytics.nn.modules.conv.Conv             [64, 128, 3, 2]               \n",
      "  6                  -1  2    197632  ultralytics.nn.modules.block.C2f             [128, 128, 2, True]           \n",
      "  7                  -1  1    295424  ultralytics.nn.modules.conv.Conv             [128, 256, 3, 2]              \n",
      "  8                  -1  1    460288  ultralytics.nn.modules.block.C2f             [256, 256, 1, True]           \n",
      "  9                  -1  1    164608  ultralytics.nn.modules.block.SPPF            [256, 256, 5]                 \n",
      " 10                  -1  1         0  torch.nn.modules.upsampling.Upsample         [None, 2, 'nearest']          \n",
      " 11             [-1, 6]  1         0  ultralytics.nn.modules.conv.Concat           [1]                           \n",
      " 12                  -1  1    148224  ultralytics.nn.modules.block.C2f             [384, 128, 1]                 \n",
      " 13                  -1  1         0  torch.nn.modules.upsampling.Upsample         [None, 2, 'nearest']          \n",
      " 14             [-1, 4]  1         0  ultralytics.nn.modules.conv.Concat           [1]                           \n",
      " 15                  -1  1     37248  ultralytics.nn.modules.block.C2f             [192, 64, 1]                  \n",
      " 16                  -1  1     36992  ultralytics.nn.modules.conv.Conv             [64, 64, 3, 2]                \n",
      " 17            [-1, 12]  1         0  ultralytics.nn.modules.conv.Concat           [1]                           \n",
      " 18                  -1  1    123648  ultralytics.nn.modules.block.C2f             [192, 128, 1]                 \n",
      " 19                  -1  1    147712  ultralytics.nn.modules.conv.Conv             [128, 128, 3, 2]              \n",
      " 20             [-1, 9]  1         0  ultralytics.nn.modules.conv.Concat           [1]                           \n",
      " 21                  -1  1    493056  ultralytics.nn.modules.block.C2f             [384, 256, 1]                 \n",
      " 22        [15, 18, 21]  1    897664  ultralytics.nn.modules.head.Detect           [80, [64, 128, 256]]          \n",
      "Model summary: 225 layers, 3157200 parameters, 3157184 gradients, 8.9 GFLOPs\n",
      "\n",
      "Transferred 355/355 items from pretrained weights\n",
      "\u001b[34m\u001b[1mTensorBoard: \u001b[0mStart with 'tensorboard --logdir runs/detect/train', view at http://localhost:6006/\n",
      "Freezing layer 'model.22.dfl.conv.weight'\n",
      "\u001b[34m\u001b[1mAMP: \u001b[0mrunning Automatic Mixed Precision (AMP) checks with YOLOv8n...\n",
      "\u001b[34m\u001b[1mAMP: \u001b[0mchecks passed ✅\n"
     ]
    },
    {
     "name": "stderr",
     "output_type": "stream",
     "text": [
      "\u001b[34m\u001b[1mtrain: \u001b[0mScanning /home/tyler/yolov5/datasets/coco128/labels/train2017.cache... 126 images, 2 backgrounds, 0 corrupt: 100%|██████████| 128/128 [00:00<?, ?it/s]\n",
      "\u001b[34m\u001b[1mval: \u001b[0mScanning /home/tyler/yolov5/datasets/coco128/labels/train2017.cache... 126 images, 2 backgrounds, 0 corrupt: 100%|██████████| 128/128 [00:00<?, ?it/s]\n"
     ]
    },
    {
     "name": "stdout",
     "output_type": "stream",
     "text": [
      "Plotting labels to runs/detect/train/labels.jpg... \n",
      "\u001b[34m\u001b[1moptimizer:\u001b[0m 'optimizer=auto' found, ignoring 'lr0=0.01' and 'momentum=0.937' and determining best 'optimizer', 'lr0' and 'momentum' automatically... \n",
      "\u001b[34m\u001b[1moptimizer:\u001b[0m AdamW(lr=0.000119, momentum=0.9) with parameter groups 57 weight(decay=0.0), 64 weight(decay=0.0005), 63 bias(decay=0.0)\n",
      "Image sizes 640 train, 640 val\n",
      "Using 8 dataloader workers\n",
      "Logging results to \u001b[1mruns/detect/train\u001b[0m\n",
      "Starting training for 3 epochs...\n",
      "\n",
      "      Epoch    GPU_mem   box_loss   cls_loss   dfl_loss  Instances       Size\n"
     ]
    },
    {
     "name": "stderr",
     "output_type": "stream",
     "text": [
      "        1/3      2.64G      1.226      1.614      1.274        178        640: 100%|██████████| 8/8 [00:01<00:00,  6.39it/s]\n",
      "                 Class     Images  Instances      Box(P          R      mAP50  mAP50-95): 100%|██████████| 4/4 [00:00<00:00,  6.96it/s]"
     ]
    },
    {
     "name": "stdout",
     "output_type": "stream",
     "text": [
      "                   all        128        929      0.665      0.501       0.59       0.44\n"
     ]
    },
    {
     "name": "stderr",
     "output_type": "stream",
     "text": [
      "\n"
     ]
    },
    {
     "name": "stdout",
     "output_type": "stream",
     "text": [
      "\n",
      "      Epoch    GPU_mem   box_loss   cls_loss   dfl_loss  Instances       Size\n"
     ]
    },
    {
     "name": "stderr",
     "output_type": "stream",
     "text": [
      "        2/3      2.64G      1.225      1.514      1.268        231        640: 100%|██████████| 8/8 [00:00<00:00,  8.63it/s]\n",
      "                 Class     Images  Instances      Box(P          R      mAP50  mAP50-95): 100%|██████████| 4/4 [00:00<00:00,  6.93it/s]"
     ]
    },
    {
     "name": "stdout",
     "output_type": "stream",
     "text": [
      "                   all        128        929      0.663      0.543      0.613      0.453\n"
     ]
    },
    {
     "name": "stderr",
     "output_type": "stream",
     "text": [
      "\n"
     ]
    },
    {
     "name": "stdout",
     "output_type": "stream",
     "text": [
      "\n",
      "      Epoch    GPU_mem   box_loss   cls_loss   dfl_loss  Instances       Size\n"
     ]
    },
    {
     "name": "stderr",
     "output_type": "stream",
     "text": [
      "        3/3      2.81G      1.209      1.449      1.222        178        640: 100%|██████████| 8/8 [00:00<00:00,  9.00it/s]\n",
      "                 Class     Images  Instances      Box(P          R      mAP50  mAP50-95): 100%|██████████| 4/4 [00:00<00:00,  6.74it/s]"
     ]
    },
    {
     "name": "stdout",
     "output_type": "stream",
     "text": [
      "                   all        128        929       0.66       0.57      0.621      0.463\n"
     ]
    },
    {
     "name": "stderr",
     "output_type": "stream",
     "text": [
      "\n"
     ]
    },
    {
     "name": "stdout",
     "output_type": "stream",
     "text": [
      "\n",
      "3 epochs completed in 0.013 hours.\n",
      "Optimizer stripped from runs/detect/train/weights/last.pt, 6.5MB\n",
      "Optimizer stripped from runs/detect/train/weights/best.pt, 6.5MB\n",
      "\n",
      "Validating runs/detect/train/weights/best.pt...\n",
      "Ultralytics YOLOv8.0.222 🚀 Python-3.10.12 torch-2.1.1+cu121 CUDA:0 (NVIDIA GeForce RTX 2080 SUPER, 7972MiB)\n",
      "Model summary (fused): 168 layers, 3151904 parameters, 0 gradients, 8.7 GFLOPs\n"
     ]
    },
    {
     "name": "stderr",
     "output_type": "stream",
     "text": [
      "                 Class     Images  Instances      Box(P          R      mAP50  mAP50-95): 100%|██████████| 4/4 [00:01<00:00,  3.61it/s]\n"
     ]
    },
    {
     "name": "stdout",
     "output_type": "stream",
     "text": [
      "                   all        128        929      0.659      0.565       0.62      0.462\n",
      "                person        128        254      0.801      0.681       0.77      0.548\n",
      "               bicycle        128          6       0.56      0.333      0.318      0.264\n",
      "                   car        128         46      0.625      0.217      0.279       0.18\n",
      "            motorcycle        128          5      0.685          1      0.938      0.738\n",
      "              airplane        128          6      0.714      0.667       0.83      0.623\n",
      "                   bus        128          7      0.574      0.714       0.72      0.597\n",
      "                 train        128          3      0.537      0.667      0.806      0.729\n",
      "                 truck        128         12       0.82      0.383      0.469      0.288\n",
      "                  boat        128          6        0.3      0.167      0.372       0.24\n",
      "         traffic light        128         14       0.72      0.214      0.202      0.132\n",
      "             stop sign        128          2          1      0.969      0.995      0.704\n",
      "                 bench        128          9      0.801      0.449      0.625      0.391\n",
      "                  bird        128         16      0.921      0.734      0.888       0.51\n",
      "                   cat        128          4      0.846          1      0.995      0.835\n",
      "                   dog        128          9      0.718      0.849      0.841      0.596\n",
      "                 horse        128          2      0.574          1      0.995      0.597\n",
      "              elephant        128         17      0.864      0.824      0.861      0.669\n",
      "                  bear        128          1      0.638          1      0.995      0.995\n",
      "                 zebra        128          4      0.854          1      0.995      0.965\n",
      "               giraffe        128          9      0.721      0.889      0.949      0.697\n",
      "              backpack        128          6      0.718      0.436      0.429      0.295\n",
      "              umbrella        128         18       0.82      0.556      0.665      0.451\n",
      "               handbag        128         19      0.495     0.0522      0.168     0.0851\n",
      "                   tie        128          7      0.585      0.608       0.62       0.46\n",
      "              suitcase        128          4      0.602          1      0.845      0.579\n",
      "               frisbee        128          5      0.581        0.8      0.732      0.639\n",
      "                  skis        128          1      0.413          1      0.497      0.209\n",
      "             snowboard        128          7       0.55      0.714      0.759      0.474\n",
      "           sports ball        128          6      0.745       0.49       0.53      0.305\n",
      "                  kite        128         10       0.68      0.429      0.535      0.185\n",
      "          baseball bat        128          4      0.478        0.5        0.5      0.226\n",
      "        baseball glove        128          7      0.665      0.429      0.429      0.294\n",
      "            skateboard        128          5       0.77        0.6        0.6       0.44\n",
      "         tennis racket        128          7      0.519      0.286      0.451      0.302\n",
      "                bottle        128         18      0.464      0.389      0.392      0.232\n",
      "            wine glass        128         16      0.634      0.562      0.573      0.341\n",
      "                   cup        128         36      0.653      0.278      0.425      0.283\n",
      "                  fork        128          6          1      0.299      0.363      0.252\n",
      "                 knife        128         16      0.692      0.625       0.61       0.36\n",
      "                 spoon        128         22      0.631      0.182      0.359      0.192\n",
      "                  bowl        128         28      0.621      0.571      0.597        0.5\n",
      "                banana        128          1     0.0106     0.0531      0.199     0.0538\n",
      "              sandwich        128          2      0.603          1      0.663      0.663\n",
      "                orange        128          4          1      0.384      0.995      0.669\n",
      "              broccoli        128         11      0.593      0.182      0.247      0.226\n",
      "                carrot        128         24      0.606      0.417      0.619      0.384\n",
      "               hot dog        128          2       0.55          1      0.828      0.796\n",
      "                 pizza        128          5      0.671          1      0.962       0.84\n",
      "                 donut        128         14      0.635          1      0.914      0.836\n",
      "                  cake        128          4      0.681          1      0.995       0.83\n",
      "                 chair        128         35      0.476      0.543      0.451      0.258\n",
      "                 couch        128          6       0.75      0.499      0.694      0.533\n",
      "          potted plant        128         14      0.541      0.591      0.671       0.46\n",
      "                   bed        128          3          1      0.618      0.913      0.673\n",
      "          dining table        128         13      0.427      0.615      0.524      0.405\n",
      "                toilet        128          2          1      0.871      0.995      0.895\n",
      "                    tv        128          2      0.452        0.5      0.638       0.61\n",
      "                laptop        128          3          1          0      0.577      0.451\n",
      "                 mouse        128          2          1          0          0          0\n",
      "                remote        128          8      0.856        0.5      0.571      0.492\n",
      "            cell phone        128          8          0          0     0.0466     0.0237\n",
      "             microwave        128          3      0.484      0.948       0.83      0.716\n",
      "                  oven        128          5      0.361        0.4      0.348      0.275\n",
      "                  sink        128          6      0.349      0.167      0.187      0.135\n",
      "          refrigerator        128          5       0.55        0.4      0.648      0.511\n",
      "                  book        128         29      0.567      0.103       0.26      0.142\n",
      "                 clock        128          9      0.772      0.778      0.875      0.731\n",
      "                  vase        128          2      0.393          1      0.828      0.795\n",
      "              scissors        128          1          1          0      0.199     0.0452\n",
      "            teddy bear        128         21          1      0.381      0.599      0.415\n",
      "            toothbrush        128          5      0.848        0.6      0.793      0.529\n",
      "Speed: 0.2ms preprocess, 1.3ms inference, 0.0ms loss, 0.6ms postprocess per image\n",
      "Results saved to \u001b[1mruns/detect/train\u001b[0m\n",
      "Ultralytics YOLOv8.0.222 🚀 Python-3.10.12 torch-2.1.1+cu121 CUDA:0 (NVIDIA GeForce RTX 2080 SUPER, 7972MiB)\n",
      "Model summary (fused): 168 layers, 3151904 parameters, 0 gradients, 8.7 GFLOPs\n"
     ]
    },
    {
     "name": "stderr",
     "output_type": "stream",
     "text": [
      "\u001b[34m\u001b[1mval: \u001b[0mScanning /home/tyler/yolov5/datasets/coco128/labels/train2017.cache... 126 images, 2 backgrounds, 0 corrupt: 100%|██████████| 128/128 [00:00<?, ?it/s]\n",
      "                 Class     Images  Instances      Box(P          R      mAP50  mAP50-95): 100%|██████████| 8/8 [00:01<00:00,  5.07it/s]\n"
     ]
    },
    {
     "name": "stdout",
     "output_type": "stream",
     "text": [
      "                   all        128        929      0.656      0.551      0.613       0.46\n",
      "                person        128        254      0.813      0.685      0.773      0.552\n",
      "               bicycle        128          6       0.57      0.333      0.314      0.264\n",
      "                   car        128         46      0.671      0.217       0.28      0.181\n",
      "            motorcycle        128          5      0.701          1      0.938      0.754\n",
      "              airplane        128          6      0.714      0.667       0.83      0.616\n",
      "                   bus        128          7      0.522      0.714      0.696      0.587\n",
      "                 train        128          3       0.54      0.667      0.806      0.729\n",
      "                 truck        128         12      0.823      0.417       0.46      0.258\n",
      "                  boat        128          6      0.342      0.167      0.359      0.202\n",
      "         traffic light        128         14      0.735      0.201      0.207      0.133\n",
      "             stop sign        128          2          1      0.968      0.995      0.703\n",
      "                 bench        128          9      0.799      0.443      0.626      0.391\n",
      "                  bird        128         16      0.921      0.728       0.89      0.513\n",
      "                   cat        128          4       0.85          1      0.995      0.822\n",
      "                   dog        128          9      0.717      0.845      0.841      0.602\n",
      "                 horse        128          2      0.575          1      0.995      0.597\n",
      "              elephant        128         17      0.868      0.824      0.861      0.663\n",
      "                  bear        128          1      0.642          1      0.995      0.995\n",
      "                 zebra        128          4      0.855          1      0.995      0.965\n",
      "               giraffe        128          9      0.769      0.889      0.943      0.758\n",
      "              backpack        128          6      0.564      0.333      0.391      0.263\n",
      "              umbrella        128         18      0.833      0.553      0.671       0.45\n",
      "               handbag        128         19      0.476     0.0501      0.166     0.0849\n",
      "                   tie        128          7      0.579      0.592       0.62       0.46\n",
      "              suitcase        128          4      0.605          1      0.845      0.579\n",
      "               frisbee        128          5      0.587        0.8      0.732      0.639\n",
      "                  skis        128          1      0.428          1      0.497      0.211\n",
      "             snowboard        128          7      0.543      0.714      0.759      0.475\n",
      "           sports ball        128          6      0.742      0.484      0.514      0.296\n",
      "                  kite        128         10      0.823       0.47      0.561      0.185\n",
      "          baseball bat        128          4      0.402       0.25      0.375      0.187\n",
      "        baseball glove        128          7      0.646      0.429      0.429      0.316\n",
      "            skateboard        128          5      0.843        0.6        0.6       0.44\n",
      "         tennis racket        128          7      0.732      0.398       0.48      0.328\n",
      "                bottle        128         18      0.414      0.354      0.371      0.223\n",
      "            wine glass        128         16       0.58      0.438      0.531      0.335\n",
      "                   cup        128         36        0.6      0.278      0.421      0.283\n",
      "                  fork        128          6      0.598      0.167      0.274      0.217\n",
      "                 knife        128         16      0.644      0.625      0.611      0.361\n",
      "                 spoon        128         22      0.718      0.182      0.346      0.187\n",
      "                  bowl        128         28      0.687      0.643      0.629      0.525\n",
      "                banana        128          1          0          0      0.166     0.0646\n",
      "              sandwich        128          2      0.382      0.645      0.497      0.497\n",
      "                orange        128          4          1      0.377      0.995      0.669\n",
      "              broccoli        128         11      0.647      0.182       0.26      0.228\n",
      "                carrot        128         24      0.704      0.496      0.641      0.396\n",
      "               hot dog        128          2       0.54          1      0.828      0.828\n",
      "                 pizza        128          5      0.705          1      0.995      0.866\n",
      "                 donut        128         14      0.637          1      0.909      0.826\n",
      "                  cake        128          4      0.668          1      0.945        0.8\n",
      "                 chair        128         35      0.454      0.514      0.419       0.25\n",
      "                 couch        128          6      0.798      0.661      0.747      0.582\n",
      "          potted plant        128         14      0.539      0.585      0.671      0.462\n",
      "                   bed        128          3          1      0.615      0.913      0.735\n",
      "          dining table        128         13      0.459      0.538      0.501        0.4\n",
      "                toilet        128          2          1      0.867      0.995      0.895\n",
      "                    tv        128          2      0.459        0.5      0.638       0.61\n",
      "                laptop        128          3          1          0      0.555      0.446\n",
      "                 mouse        128          2          1          0          0          0\n",
      "                remote        128          8      0.859        0.5      0.599      0.494\n",
      "            cell phone        128          8          0          0     0.0486     0.0252\n",
      "             microwave        128          3      0.408      0.667       0.83      0.716\n",
      "                  oven        128          5      0.328        0.4      0.348      0.275\n",
      "                  sink        128          6      0.372      0.167      0.172      0.126\n",
      "          refrigerator        128          5      0.667        0.4      0.678      0.528\n",
      "                  book        128         29       0.58      0.103      0.281      0.159\n",
      "                 clock        128          9      0.775      0.778      0.879       0.72\n",
      "                  vase        128          2      0.409          1      0.828      0.795\n",
      "              scissors        128          1          1          0      0.199     0.0457\n",
      "            teddy bear        128         21          1       0.38      0.623      0.412\n",
      "            toothbrush        128          5      0.745        0.6      0.709      0.493\n",
      "Speed: 0.1ms preprocess, 2.0ms inference, 0.0ms loss, 0.9ms postprocess per image\n",
      "Results saved to \u001b[1mruns/detect/train2\u001b[0m\n",
      "\n",
      "Found https://ultralytics.com/images/bus.jpg locally at bus.jpg\n",
      "image 1/1 /home/tyler/ultralytics/bus.jpg: 640x480 4 persons, 1 bus, 1 stop sign, 6.3ms\n",
      "Speed: 1.5ms preprocess, 6.3ms inference, 1.2ms postprocess per image at shape (1, 3, 640, 480)\n",
      "Ultralytics YOLOv8.0.222 🚀 Python-3.10.12 torch-2.1.1+cu121 CPU (AMD Ryzen 9 3950X 16-Core Processor)\n",
      "\n",
      "\u001b[34m\u001b[1mPyTorch:\u001b[0m starting from 'runs/detect/train/weights/best.pt' with input shape (1, 3, 640, 640) BCHW and output shape(s) (1, 84, 8400) (6.2 MB)\n",
      "\n",
      "\u001b[34m\u001b[1mONNX:\u001b[0m starting export with onnx 1.15.0 opset 17...\n",
      "\u001b[34m\u001b[1mONNX:\u001b[0m export success ✅ 0.4s, saved as 'runs/detect/train/weights/best.onnx' (12.2 MB)\n",
      "\n",
      "Export complete (1.6s)\n",
      "Results saved to \u001b[1m/home/tyler/ultralytics/runs/detect/train/weights\u001b[0m\n",
      "Predict:         yolo predict task=detect model=runs/detect/train/weights/best.onnx imgsz=640  \n",
      "Validate:        yolo val task=detect model=runs/detect/train/weights/best.onnx imgsz=640 data=/home/tyler/ultralytics/ultralytics/cfg/datasets/coco128.yaml  \n",
      "Visualize:       https://netron.app\n"
     ]
    }
   ],
   "source": [
    "from ultralytics import YOLO\n",
    "\n",
    "# Load a model\n",
    "model = YOLO(\"yolov8n.yaml\")  # build a new model from scratch\n",
    "model = YOLO(\"yolov8n.pt\")  # load a pretrained model (recommended for training)\n",
    "\n",
    "# Use the model\n",
    "model.train(data=\"coco128.yaml\", epochs=3)  # train the model\n",
    "metrics = model.val()  # evaluate model performance on the validation set\n",
    "results = model(\"https://ultralytics.com/images/bus.jpg\")  # predict on an image\n",
    "path = model.export(format=\"onnx\")  # export the model to ONNX format"
   ]
  },
  {
   "cell_type": "markdown",
   "metadata": {},
   "source": [
    "It would appear that the training and test data sets had moderate success rates even after the data augmentation process. "
   ]
  },
  {
   "cell_type": "code",
   "execution_count": 7,
   "metadata": {},
   "outputs": [
    {
     "name": "stdout",
     "output_type": "stream",
     "text": [
      "New https://pypi.org/project/ultralytics/8.0.223 available 😃 Update with 'pip install -U ultralytics'\n",
      "Ultralytics YOLOv8.0.222 🚀 Python-3.10.12 torch-2.1.1+cu121 CUDA:0 (NVIDIA GeForce RTX 2080 SUPER, 7972MiB)\n",
      "\u001b[34m\u001b[1mengine/trainer: \u001b[0mtask=detect, mode=train, model=yolov8n.pt, data=coco128.yaml, epochs=5, patience=50, batch=16, imgsz=640, save=True, save_period=-1, cache=False, device=None, workers=8, project=None, name=train3, exist_ok=False, pretrained=True, optimizer=auto, verbose=True, seed=0, deterministic=True, single_cls=False, rect=False, cos_lr=False, close_mosaic=10, resume=False, amp=True, fraction=1.0, profile=False, freeze=None, overlap_mask=True, mask_ratio=4, dropout=0.0, val=True, split=val, save_json=False, save_hybrid=False, conf=None, iou=0.7, max_det=300, half=False, dnn=False, plots=True, source=None, vid_stride=1, stream_buffer=False, visualize=False, augment=False, agnostic_nms=False, classes=None, retina_masks=False, show=False, save_frames=False, save_txt=False, save_conf=False, save_crop=False, show_labels=True, show_conf=True, show_boxes=True, line_width=None, format=torchscript, keras=False, optimize=False, int8=False, dynamic=False, simplify=False, opset=None, workspace=4, nms=False, lr0=0.001, lrf=0.0001, momentum=0.937, weight_decay=0.0005, warmup_epochs=3.0, warmup_momentum=0.8, warmup_bias_lr=0.0, box=7.5, cls=0.5, dfl=1.5, pose=12.0, kobj=1.0, label_smoothing=0.0, nbs=64, hsv_h=0.015, hsv_s=0.7, hsv_v=0.4, degrees=0.0, translate=0.1, scale=0.5, shear=0.0, perspective=0.0, flipud=0.0, fliplr=0.5, mosaic=1.0, mixup=0.0, copy_paste=0.0, cfg=None, tracker=botsort.yaml, save_dir=runs/detect/train3\n",
      "\n",
      "                   from  n    params  module                                       arguments                     \n",
      "  0                  -1  1       464  ultralytics.nn.modules.conv.Conv             [3, 16, 3, 2]                 \n",
      "  1                  -1  1      4672  ultralytics.nn.modules.conv.Conv             [16, 32, 3, 2]                \n",
      "  2                  -1  1      7360  ultralytics.nn.modules.block.C2f             [32, 32, 1, True]             \n",
      "  3                  -1  1     18560  ultralytics.nn.modules.conv.Conv             [32, 64, 3, 2]                \n",
      "  4                  -1  2     49664  ultralytics.nn.modules.block.C2f             [64, 64, 2, True]             \n",
      "  5                  -1  1     73984  ultralytics.nn.modules.conv.Conv             [64, 128, 3, 2]               \n",
      "  6                  -1  2    197632  ultralytics.nn.modules.block.C2f             [128, 128, 2, True]           \n",
      "  7                  -1  1    295424  ultralytics.nn.modules.conv.Conv             [128, 256, 3, 2]              \n",
      "  8                  -1  1    460288  ultralytics.nn.modules.block.C2f             [256, 256, 1, True]           \n",
      "  9                  -1  1    164608  ultralytics.nn.modules.block.SPPF            [256, 256, 5]                 \n",
      " 10                  -1  1         0  torch.nn.modules.upsampling.Upsample         [None, 2, 'nearest']          \n",
      " 11             [-1, 6]  1         0  ultralytics.nn.modules.conv.Concat           [1]                           \n",
      " 12                  -1  1    148224  ultralytics.nn.modules.block.C2f             [384, 128, 1]                 \n",
      " 13                  -1  1         0  torch.nn.modules.upsampling.Upsample         [None, 2, 'nearest']          \n",
      " 14             [-1, 4]  1         0  ultralytics.nn.modules.conv.Concat           [1]                           \n",
      " 15                  -1  1     37248  ultralytics.nn.modules.block.C2f             [192, 64, 1]                  \n",
      " 16                  -1  1     36992  ultralytics.nn.modules.conv.Conv             [64, 64, 3, 2]                \n",
      " 17            [-1, 12]  1         0  ultralytics.nn.modules.conv.Concat           [1]                           \n",
      " 18                  -1  1    123648  ultralytics.nn.modules.block.C2f             [192, 128, 1]                 \n",
      " 19                  -1  1    147712  ultralytics.nn.modules.conv.Conv             [128, 128, 3, 2]              \n",
      " 20             [-1, 9]  1         0  ultralytics.nn.modules.conv.Concat           [1]                           \n",
      " 21                  -1  1    493056  ultralytics.nn.modules.block.C2f             [384, 256, 1]                 \n",
      " 22        [15, 18, 21]  1    897664  ultralytics.nn.modules.head.Detect           [80, [64, 128, 256]]          \n",
      "Model summary: 225 layers, 3157200 parameters, 3157184 gradients, 8.9 GFLOPs\n",
      "\n",
      "Transferred 70/355 items from pretrained weights\n",
      "\u001b[34m\u001b[1mTensorBoard: \u001b[0mStart with 'tensorboard --logdir runs/detect/train3', view at http://localhost:6006/\n",
      "Freezing layer 'model.22.dfl.conv.weight'\n",
      "\u001b[34m\u001b[1mAMP: \u001b[0mrunning Automatic Mixed Precision (AMP) checks with YOLOv8n...\n",
      "\u001b[34m\u001b[1mAMP: \u001b[0mchecks passed ✅\n"
     ]
    },
    {
     "name": "stderr",
     "output_type": "stream",
     "text": [
      "\u001b[34m\u001b[1mtrain: \u001b[0mScanning /home/tyler/yolov5/datasets/coco128/labels/train2017.cache... 126 images, 2 backgrounds, 0 corrupt: 100%|██████████| 128/128 [00:00<?, ?it/s]\n",
      "\u001b[34m\u001b[1mval: \u001b[0mScanning /home/tyler/yolov5/datasets/coco128/labels/train2017.cache... 126 images, 2 backgrounds, 0 corrupt: 100%|██████████| 128/128 [00:00<?, ?it/s]\n"
     ]
    },
    {
     "name": "stdout",
     "output_type": "stream",
     "text": [
      "Plotting labels to runs/detect/train3/labels.jpg... \n",
      "\u001b[34m\u001b[1moptimizer:\u001b[0m 'optimizer=auto' found, ignoring 'lr0=0.001' and 'momentum=0.937' and determining best 'optimizer', 'lr0' and 'momentum' automatically... \n",
      "\u001b[34m\u001b[1moptimizer:\u001b[0m AdamW(lr=0.000119, momentum=0.9) with parameter groups 57 weight(decay=0.0), 64 weight(decay=0.0005), 63 bias(decay=0.0)\n",
      "Image sizes 640 train, 640 val\n",
      "Using 8 dataloader workers\n",
      "Logging results to \u001b[1mruns/detect/train3\u001b[0m\n",
      "Starting training for 5 epochs...\n",
      "\n",
      "      Epoch    GPU_mem   box_loss   cls_loss   dfl_loss  Instances       Size\n"
     ]
    },
    {
     "name": "stderr",
     "output_type": "stream",
     "text": [
      "        1/5      2.67G      2.898      4.747      2.492        178        640: 100%|██████████| 8/8 [00:01<00:00,  6.45it/s]\n",
      "                 Class     Images  Instances      Box(P          R      mAP50  mAP50-95): 100%|██████████| 4/4 [00:00<00:00,  5.83it/s]"
     ]
    },
    {
     "name": "stdout",
     "output_type": "stream",
     "text": [
      "                   all        128        929     0.0142     0.0109   0.000797    0.00014\n"
     ]
    },
    {
     "name": "stderr",
     "output_type": "stream",
     "text": [
      "\n"
     ]
    },
    {
     "name": "stdout",
     "output_type": "stream",
     "text": [
      "\n",
      "      Epoch    GPU_mem   box_loss   cls_loss   dfl_loss  Instances       Size\n"
     ]
    },
    {
     "name": "stderr",
     "output_type": "stream",
     "text": [
      "        2/5      2.67G      2.842      4.762       2.44        231        640: 100%|██████████| 8/8 [00:00<00:00,  8.67it/s]\n",
      "                 Class     Images  Instances      Box(P          R      mAP50  mAP50-95): 100%|██████████| 4/4 [00:00<00:00,  5.78it/s]"
     ]
    },
    {
     "name": "stdout",
     "output_type": "stream",
     "text": [
      "                   all        128        929     0.0142     0.0122   0.000642   0.000177\n"
     ]
    },
    {
     "name": "stderr",
     "output_type": "stream",
     "text": [
      "\n"
     ]
    },
    {
     "name": "stdout",
     "output_type": "stream",
     "text": [
      "\n",
      "      Epoch    GPU_mem   box_loss   cls_loss   dfl_loss  Instances       Size\n"
     ]
    },
    {
     "name": "stderr",
     "output_type": "stream",
     "text": [
      "        3/5      2.83G      2.821      4.647      2.421        178        640: 100%|██████████| 8/8 [00:00<00:00,  9.01it/s]\n",
      "                 Class     Images  Instances      Box(P          R      mAP50  mAP50-95): 100%|██████████| 4/4 [00:00<00:00,  5.72it/s]"
     ]
    },
    {
     "name": "stdout",
     "output_type": "stream",
     "text": [
      "                   all        128        929   0.000481     0.0105    0.00123   0.000329\n"
     ]
    },
    {
     "name": "stderr",
     "output_type": "stream",
     "text": [
      "\n"
     ]
    },
    {
     "name": "stdout",
     "output_type": "stream",
     "text": [
      "\n",
      "      Epoch    GPU_mem   box_loss   cls_loss   dfl_loss  Instances       Size\n"
     ]
    },
    {
     "name": "stderr",
     "output_type": "stream",
     "text": [
      "        4/5      2.65G      2.875      4.615       2.42        323        640: 100%|██████████| 8/8 [00:00<00:00,  9.08it/s]\n",
      "                 Class     Images  Instances      Box(P          R      mAP50  mAP50-95): 100%|██████████| 4/4 [00:00<00:00,  5.71it/s]"
     ]
    },
    {
     "name": "stdout",
     "output_type": "stream",
     "text": [
      "                   all        128        929    0.00344    0.00866    0.00257   0.000925\n"
     ]
    },
    {
     "name": "stderr",
     "output_type": "stream",
     "text": [
      "\n"
     ]
    },
    {
     "name": "stdout",
     "output_type": "stream",
     "text": [
      "\n",
      "      Epoch    GPU_mem   box_loss   cls_loss   dfl_loss  Instances       Size\n"
     ]
    },
    {
     "name": "stderr",
     "output_type": "stream",
     "text": [
      "        5/5       2.7G       2.83      4.588      2.431        199        640: 100%|██████████| 8/8 [00:00<00:00,  9.06it/s]\n",
      "                 Class     Images  Instances      Box(P          R      mAP50  mAP50-95): 100%|██████████| 4/4 [00:00<00:00,  5.69it/s]"
     ]
    },
    {
     "name": "stdout",
     "output_type": "stream",
     "text": [
      "                   all        128        929    0.00493    0.00866    0.00288   0.000898\n"
     ]
    },
    {
     "name": "stderr",
     "output_type": "stream",
     "text": [
      "\n"
     ]
    },
    {
     "name": "stdout",
     "output_type": "stream",
     "text": [
      "\n",
      "5 epochs completed in 0.003 hours.\n",
      "Optimizer stripped from runs/detect/train3/weights/last.pt, 6.5MB\n",
      "Optimizer stripped from runs/detect/train3/weights/best.pt, 6.5MB\n",
      "\n",
      "Validating runs/detect/train3/weights/best.pt...\n",
      "Ultralytics YOLOv8.0.222 🚀 Python-3.10.12 torch-2.1.1+cu121 CUDA:0 (NVIDIA GeForce RTX 2080 SUPER, 7972MiB)\n",
      "Model summary (fused): 168 layers, 3151904 parameters, 0 gradients, 8.7 GFLOPs\n"
     ]
    },
    {
     "name": "stderr",
     "output_type": "stream",
     "text": [
      "                 Class     Images  Instances      Box(P          R      mAP50  mAP50-95): 100%|██████████| 4/4 [00:01<00:00,  3.97it/s]\n"
     ]
    },
    {
     "name": "stdout",
     "output_type": "stream",
     "text": [
      "                   all        128        929    0.00493    0.00866    0.00282   0.000895\n",
      "                person        128        254     0.0207      0.307     0.0621     0.0236\n",
      "               bicycle        128          6          0          0          0          0\n",
      "                   car        128         46          0          0          0          0\n",
      "            motorcycle        128          5          0          0          0          0\n",
      "              airplane        128          6          0          0          0          0\n",
      "                   bus        128          7          0          0          0          0\n",
      "                 train        128          3          0          0          0          0\n",
      "                 truck        128         12          0          0          0          0\n",
      "                  boat        128          6          0          0          0          0\n",
      "         traffic light        128         14          0          0          0          0\n",
      "             stop sign        128          2          0          0          0          0\n",
      "                 bench        128          9          0          0          0          0\n",
      "                  bird        128         16          0          0          0          0\n",
      "                   cat        128          4          0          0          0          0\n",
      "                   dog        128          9          0          0          0          0\n",
      "                 horse        128          2          0          0          0          0\n",
      "              elephant        128         17          0          0          0          0\n",
      "                  bear        128          1          0          0          0          0\n",
      "                 zebra        128          4          0          0          0          0\n",
      "               giraffe        128          9          0          0          0          0\n",
      "              backpack        128          6          0          0          0          0\n",
      "              umbrella        128         18          0          0          0          0\n",
      "               handbag        128         19          0          0          0          0\n",
      "                   tie        128          7          0          0          0          0\n",
      "              suitcase        128          4          0          0          0          0\n",
      "               frisbee        128          5          0          0          0          0\n",
      "                  skis        128          1          0          0          0          0\n",
      "             snowboard        128          7          0          0          0          0\n",
      "           sports ball        128          6          0          0          0          0\n",
      "                  kite        128         10          0          0          0          0\n",
      "          baseball bat        128          4          0          0          0          0\n",
      "        baseball glove        128          7          0          0          0          0\n",
      "            skateboard        128          5          0          0          0          0\n",
      "         tennis racket        128          7          0          0          0          0\n",
      "                bottle        128         18          0          0          0          0\n",
      "            wine glass        128         16          0          0          0          0\n",
      "                   cup        128         36          0          0          0          0\n",
      "                  fork        128          6          0          0          0          0\n",
      "                 knife        128         16          0          0          0          0\n",
      "                 spoon        128         22          0          0          0          0\n",
      "                  bowl        128         28          0          0          0          0\n",
      "                banana        128          1          0          0          0          0\n",
      "              sandwich        128          2          0          0          0          0\n",
      "                orange        128          4          0          0          0          0\n",
      "              broccoli        128         11          0          0          0          0\n",
      "                carrot        128         24          0          0          0          0\n",
      "               hot dog        128          2          0          0          0          0\n",
      "                 pizza        128          5          0          0          0          0\n",
      "                 donut        128         14          0          0          0          0\n",
      "                  cake        128          4          0          0          0          0\n",
      "                 chair        128         35          0          0          0          0\n",
      "                 couch        128          6          0          0          0          0\n",
      "          potted plant        128         14          0          0          0          0\n",
      "                   bed        128          3          0          0          0          0\n",
      "          dining table        128         13      0.329      0.308      0.138       0.04\n",
      "                toilet        128          2          0          0          0          0\n",
      "                    tv        128          2          0          0          0          0\n",
      "                laptop        128          3          0          0          0          0\n",
      "                 mouse        128          2          0          0          0          0\n",
      "                remote        128          8          0          0          0          0\n",
      "            cell phone        128          8          0          0          0          0\n",
      "             microwave        128          3          0          0          0          0\n",
      "                  oven        128          5          0          0          0          0\n",
      "                  sink        128          6          0          0          0          0\n",
      "          refrigerator        128          5          0          0          0          0\n",
      "                  book        128         29          0          0          0          0\n",
      "                 clock        128          9          0          0          0          0\n",
      "                  vase        128          2          0          0          0          0\n",
      "              scissors        128          1          0          0          0          0\n",
      "            teddy bear        128         21          0          0          0          0\n",
      "            toothbrush        128          5          0          0          0          0\n",
      "Speed: 0.1ms preprocess, 1.2ms inference, 0.0ms loss, 1.8ms postprocess per image\n",
      "Results saved to \u001b[1mruns/detect/train3\u001b[0m\n",
      "Ultralytics YOLOv8.0.222 🚀 Python-3.10.12 torch-2.1.1+cu121 CUDA:0 (NVIDIA GeForce RTX 2080 SUPER, 7972MiB)\n",
      "Model summary (fused): 168 layers, 3151904 parameters, 0 gradients, 8.7 GFLOPs\n"
     ]
    },
    {
     "name": "stderr",
     "output_type": "stream",
     "text": [
      "\u001b[34m\u001b[1mval: \u001b[0mScanning /home/tyler/yolov5/datasets/coco128/labels/train2017.cache... 126 images, 2 backgrounds, 0 corrupt: 100%|██████████| 128/128 [00:00<?, ?it/s]\n",
      "                 Class     Images  Instances      Box(P          R      mAP50  mAP50-95): 100%|██████████| 8/8 [00:01<00:00,  5.93it/s]\n"
     ]
    },
    {
     "name": "stdout",
     "output_type": "stream",
     "text": [
      "                   all        128        929    0.00351    0.00655    0.00268   0.000876\n",
      "                person        128        254     0.0218      0.311     0.0643     0.0241\n",
      "               bicycle        128          6          0          0          0          0\n",
      "                   car        128         46          0          0          0          0\n",
      "            motorcycle        128          5          0          0          0          0\n",
      "              airplane        128          6          0          0          0          0\n",
      "                   bus        128          7          0          0          0          0\n",
      "                 train        128          3          0          0          0          0\n",
      "                 truck        128         12          0          0          0          0\n",
      "                  boat        128          6          0          0          0          0\n",
      "         traffic light        128         14          0          0          0          0\n",
      "             stop sign        128          2          0          0          0          0\n",
      "                 bench        128          9          0          0          0          0\n",
      "                  bird        128         16          0          0          0          0\n",
      "                   cat        128          4          0          0          0          0\n",
      "                   dog        128          9          0          0          0          0\n",
      "                 horse        128          2          0          0          0          0\n",
      "              elephant        128         17          0          0          0          0\n",
      "                  bear        128          1          0          0          0          0\n",
      "                 zebra        128          4          0          0          0          0\n",
      "               giraffe        128          9          0          0          0          0\n",
      "              backpack        128          6          0          0          0          0\n",
      "              umbrella        128         18          0          0          0          0\n",
      "               handbag        128         19          0          0          0          0\n",
      "                   tie        128          7          0          0          0          0\n",
      "              suitcase        128          4          0          0          0          0\n",
      "               frisbee        128          5          0          0          0          0\n",
      "                  skis        128          1          0          0          0          0\n",
      "             snowboard        128          7          0          0          0          0\n",
      "           sports ball        128          6          0          0          0          0\n",
      "                  kite        128         10          0          0          0          0\n",
      "          baseball bat        128          4          0          0          0          0\n",
      "        baseball glove        128          7          0          0          0          0\n",
      "            skateboard        128          5          0          0          0          0\n",
      "         tennis racket        128          7          0          0          0          0\n",
      "                bottle        128         18          0          0          0          0\n",
      "            wine glass        128         16          0          0          0          0\n",
      "                   cup        128         36          0          0          0          0\n",
      "                  fork        128          6          0          0          0          0\n",
      "                 knife        128         16          0          0          0          0\n",
      "                 spoon        128         22          0          0          0          0\n",
      "                  bowl        128         28          0          0          0          0\n",
      "                banana        128          1          0          0          0          0\n",
      "              sandwich        128          2          0          0          0          0\n",
      "                orange        128          4          0          0          0          0\n",
      "              broccoli        128         11          0          0          0          0\n",
      "                carrot        128         24          0          0          0          0\n",
      "               hot dog        128          2          0          0          0          0\n",
      "                 pizza        128          5          0          0          0          0\n",
      "                 donut        128         14          0          0          0          0\n",
      "                  cake        128          4          0          0          0          0\n",
      "                 chair        128         35          0          0          0          0\n",
      "                 couch        128          6          0          0          0          0\n",
      "          potted plant        128         14          0          0          0          0\n",
      "                   bed        128          3          0          0          0          0\n",
      "          dining table        128         13      0.227      0.154      0.126     0.0381\n",
      "                toilet        128          2          0          0          0          0\n",
      "                    tv        128          2          0          0          0          0\n",
      "                laptop        128          3          0          0          0          0\n",
      "                 mouse        128          2          0          0          0          0\n",
      "                remote        128          8          0          0          0          0\n",
      "            cell phone        128          8          0          0          0          0\n",
      "             microwave        128          3          0          0          0          0\n",
      "                  oven        128          5          0          0          0          0\n",
      "                  sink        128          6          0          0          0          0\n",
      "          refrigerator        128          5          0          0          0          0\n",
      "                  book        128         29          0          0          0          0\n",
      "                 clock        128          9          0          0          0          0\n",
      "                  vase        128          2          0          0          0          0\n",
      "              scissors        128          1          0          0          0          0\n",
      "            teddy bear        128         21          0          0          0          0\n",
      "            toothbrush        128          5          0          0          0          0\n",
      "Speed: 0.1ms preprocess, 2.0ms inference, 0.0ms loss, 2.0ms postprocess per image\n",
      "Results saved to \u001b[1mruns/detect/train32\u001b[0m\n",
      "\n",
      "Found https://ultralytics.com/images/bus.jpg locally at bus.jpg\n",
      "image 1/1 /home/tyler/ultralytics/bus.jpg: 640x480 4 persons, 1 bus, 1 stop sign, 6.1ms\n",
      "Speed: 1.8ms preprocess, 6.1ms inference, 1.3ms postprocess per image at shape (1, 3, 640, 480)\n",
      "Ultralytics YOLOv8.0.222 🚀 Python-3.10.12 torch-2.1.1+cu121 CPU (AMD Ryzen 9 3950X 16-Core Processor)\n",
      "\n",
      "\u001b[34m\u001b[1mPyTorch:\u001b[0m starting from 'runs/detect/train3/weights/best.pt' with input shape (1, 3, 640, 640) BCHW and output shape(s) (1, 84, 8400) (6.2 MB)\n",
      "\n",
      "\u001b[34m\u001b[1mONNX:\u001b[0m starting export with onnx 1.15.0 opset 17...\n",
      "\u001b[34m\u001b[1mONNX:\u001b[0m export success ✅ 0.4s, saved as 'runs/detect/train3/weights/best.onnx' (12.2 MB)\n",
      "\n",
      "Export complete (1.6s)\n",
      "Results saved to \u001b[1m/home/tyler/ultralytics/runs/detect/train3/weights\u001b[0m\n",
      "Predict:         yolo predict task=detect model=runs/detect/train3/weights/best.onnx imgsz=640  \n",
      "Validate:        yolo val task=detect model=runs/detect/train3/weights/best.onnx imgsz=640 data=/home/tyler/ultralytics/ultralytics/cfg/datasets/coco128.yaml  \n",
      "Visualize:       https://netron.app\n"
     ]
    }
   ],
   "source": [
    "# Experiment 1: Learning Rate Adjustment\n",
    "model.train(data=\"coco128.yaml\", epochs=5, lr0=0.001, lrf=0.0001)  # lower learning rate\n",
    "metrics = model.val()  # evaluate model performance on the validation set\n",
    "results = model(\"https://ultralytics.com/images/bus.jpg\")  # predict on an image\n",
    "path = model.export(format=\"onnx\")  # export the model to ONNX format"
   ]
  },
  {
   "cell_type": "code",
   "execution_count": 8,
   "metadata": {},
   "outputs": [
    {
     "name": "stdout",
     "output_type": "stream",
     "text": [
      "New https://pypi.org/project/ultralytics/8.0.223 available 😃 Update with 'pip install -U ultralytics'\n",
      "Ultralytics YOLOv8.0.222 🚀 Python-3.10.12 torch-2.1.1+cu121 CUDA:0 (NVIDIA GeForce RTX 2080 SUPER, 7972MiB)\n",
      "\u001b[34m\u001b[1mengine/trainer: \u001b[0mtask=detect, mode=train, model=yolov8n.pt, data=coco128.yaml, epochs=5, patience=50, batch=16, imgsz=640, save=True, save_period=-1, cache=False, device=None, workers=8, project=None, name=train33, exist_ok=False, pretrained=True, optimizer=auto, verbose=True, seed=0, deterministic=True, single_cls=False, rect=False, cos_lr=False, close_mosaic=10, resume=False, amp=True, fraction=1.0, profile=False, freeze=None, overlap_mask=True, mask_ratio=4, dropout=0.0, val=True, split=val, save_json=False, save_hybrid=False, conf=None, iou=0.7, max_det=300, half=False, dnn=False, plots=True, source=None, vid_stride=1, stream_buffer=False, visualize=False, augment=True, agnostic_nms=False, classes=None, retina_masks=False, show=False, save_frames=False, save_txt=False, save_conf=False, save_crop=False, show_labels=True, show_conf=True, show_boxes=True, line_width=None, format=torchscript, keras=False, optimize=False, int8=False, dynamic=False, simplify=False, opset=None, workspace=4, nms=False, lr0=0.001, lrf=0.0001, momentum=0.937, weight_decay=0.0005, warmup_epochs=3.0, warmup_momentum=0.8, warmup_bias_lr=0.0, box=7.5, cls=0.5, dfl=1.5, pose=12.0, kobj=1.0, label_smoothing=0.0, nbs=64, hsv_h=0.015, hsv_s=0.7, hsv_v=0.4, degrees=0.0, translate=0.1, scale=0.5, shear=0.0, perspective=0.0, flipud=0.0, fliplr=0.5, mosaic=1.0, mixup=0.0, copy_paste=0.0, cfg=None, tracker=botsort.yaml, save_dir=runs/detect/train33\n",
      "\n",
      "                   from  n    params  module                                       arguments                     \n",
      "  0                  -1  1       464  ultralytics.nn.modules.conv.Conv             [3, 16, 3, 2]                 \n",
      "  1                  -1  1      4672  ultralytics.nn.modules.conv.Conv             [16, 32, 3, 2]                \n",
      "  2                  -1  1      7360  ultralytics.nn.modules.block.C2f             [32, 32, 1, True]             \n",
      "  3                  -1  1     18560  ultralytics.nn.modules.conv.Conv             [32, 64, 3, 2]                \n",
      "  4                  -1  2     49664  ultralytics.nn.modules.block.C2f             [64, 64, 2, True]             \n",
      "  5                  -1  1     73984  ultralytics.nn.modules.conv.Conv             [64, 128, 3, 2]               \n",
      "  6                  -1  2    197632  ultralytics.nn.modules.block.C2f             [128, 128, 2, True]           \n",
      "  7                  -1  1    295424  ultralytics.nn.modules.conv.Conv             [128, 256, 3, 2]              \n",
      "  8                  -1  1    460288  ultralytics.nn.modules.block.C2f             [256, 256, 1, True]           \n",
      "  9                  -1  1    164608  ultralytics.nn.modules.block.SPPF            [256, 256, 5]                 \n",
      " 10                  -1  1         0  torch.nn.modules.upsampling.Upsample         [None, 2, 'nearest']          \n",
      " 11             [-1, 6]  1         0  ultralytics.nn.modules.conv.Concat           [1]                           \n",
      " 12                  -1  1    148224  ultralytics.nn.modules.block.C2f             [384, 128, 1]                 \n",
      " 13                  -1  1         0  torch.nn.modules.upsampling.Upsample         [None, 2, 'nearest']          \n",
      " 14             [-1, 4]  1         0  ultralytics.nn.modules.conv.Concat           [1]                           \n",
      " 15                  -1  1     37248  ultralytics.nn.modules.block.C2f             [192, 64, 1]                  \n",
      " 16                  -1  1     36992  ultralytics.nn.modules.conv.Conv             [64, 64, 3, 2]                \n",
      " 17            [-1, 12]  1         0  ultralytics.nn.modules.conv.Concat           [1]                           \n",
      " 18                  -1  1    123648  ultralytics.nn.modules.block.C2f             [192, 128, 1]                 \n",
      " 19                  -1  1    147712  ultralytics.nn.modules.conv.Conv             [128, 128, 3, 2]              \n",
      " 20             [-1, 9]  1         0  ultralytics.nn.modules.conv.Concat           [1]                           \n",
      " 21                  -1  1    493056  ultralytics.nn.modules.block.C2f             [384, 256, 1]                 \n",
      " 22        [15, 18, 21]  1    897664  ultralytics.nn.modules.head.Detect           [80, [64, 128, 256]]          \n",
      "Model summary: 225 layers, 3157200 parameters, 3157184 gradients, 8.9 GFLOPs\n",
      "\n",
      "Transferred 70/355 items from pretrained weights\n",
      "\u001b[34m\u001b[1mTensorBoard: \u001b[0mStart with 'tensorboard --logdir runs/detect/train33', view at http://localhost:6006/\n",
      "Freezing layer 'model.22.dfl.conv.weight'\n",
      "\u001b[34m\u001b[1mAMP: \u001b[0mrunning Automatic Mixed Precision (AMP) checks with YOLOv8n...\n",
      "\u001b[34m\u001b[1mAMP: \u001b[0mchecks passed ✅\n"
     ]
    },
    {
     "name": "stderr",
     "output_type": "stream",
     "text": [
      "\u001b[34m\u001b[1mtrain: \u001b[0mScanning /home/tyler/yolov5/datasets/coco128/labels/train2017.cache... 126 images, 2 backgrounds, 0 corrupt: 100%|██████████| 128/128 [00:00<?, ?it/s]\n",
      "\u001b[34m\u001b[1mval: \u001b[0mScanning /home/tyler/yolov5/datasets/coco128/labels/train2017.cache... 126 images, 2 backgrounds, 0 corrupt: 100%|██████████| 128/128 [00:00<?, ?it/s]\n"
     ]
    },
    {
     "name": "stdout",
     "output_type": "stream",
     "text": [
      "Plotting labels to runs/detect/train33/labels.jpg... \n",
      "\u001b[34m\u001b[1moptimizer:\u001b[0m 'optimizer=auto' found, ignoring 'lr0=0.001' and 'momentum=0.937' and determining best 'optimizer', 'lr0' and 'momentum' automatically... \n",
      "\u001b[34m\u001b[1moptimizer:\u001b[0m AdamW(lr=0.000119, momentum=0.9) with parameter groups 57 weight(decay=0.0), 64 weight(decay=0.0005), 63 bias(decay=0.0)\n",
      "Image sizes 640 train, 640 val\n",
      "Using 8 dataloader workers\n",
      "Logging results to \u001b[1mruns/detect/train33\u001b[0m\n",
      "Starting training for 5 epochs...\n",
      "\n",
      "      Epoch    GPU_mem   box_loss   cls_loss   dfl_loss  Instances       Size\n"
     ]
    },
    {
     "name": "stderr",
     "output_type": "stream",
     "text": [
      "        1/5      2.67G      2.788       4.67      2.426        178        640: 100%|██████████| 8/8 [00:01<00:00,  6.26it/s]\n",
      "                 Class     Images  Instances      Box(P          R      mAP50  mAP50-95): 100%|██████████| 4/4 [00:00<00:00,  6.31it/s]"
     ]
    },
    {
     "name": "stdout",
     "output_type": "stream",
     "text": [
      "                   all        128        929   4.62e-05     0.0116   0.000114   2.76e-05\n"
     ]
    },
    {
     "name": "stderr",
     "output_type": "stream",
     "text": [
      "\n"
     ]
    },
    {
     "name": "stdout",
     "output_type": "stream",
     "text": [
      "\n",
      "      Epoch    GPU_mem   box_loss   cls_loss   dfl_loss  Instances       Size\n"
     ]
    },
    {
     "name": "stderr",
     "output_type": "stream",
     "text": [
      "        2/5      2.67G      2.722      4.677       2.37        231        640: 100%|██████████| 8/8 [00:00<00:00,  8.68it/s]\n",
      "                 Class     Images  Instances      Box(P          R      mAP50  mAP50-95): 100%|██████████| 4/4 [00:00<00:00,  6.24it/s]"
     ]
    },
    {
     "name": "stdout",
     "output_type": "stream",
     "text": [
      "                   all        128        929   5.14e-05     0.0122   0.000196    5.2e-05\n"
     ]
    },
    {
     "name": "stderr",
     "output_type": "stream",
     "text": [
      "\n"
     ]
    },
    {
     "name": "stdout",
     "output_type": "stream",
     "text": [
      "\n",
      "      Epoch    GPU_mem   box_loss   cls_loss   dfl_loss  Instances       Size\n"
     ]
    },
    {
     "name": "stderr",
     "output_type": "stream",
     "text": [
      "        3/5      2.83G       2.73      4.581      2.365        178        640: 100%|██████████| 8/8 [00:00<00:00,  9.09it/s]\n",
      "                 Class     Images  Instances      Box(P          R      mAP50  mAP50-95): 100%|██████████| 4/4 [00:00<00:00,  6.20it/s]"
     ]
    },
    {
     "name": "stdout",
     "output_type": "stream",
     "text": [
      "                   all        128        929   5.87e-05     0.0131   0.000611   0.000143\n"
     ]
    },
    {
     "name": "stderr",
     "output_type": "stream",
     "text": [
      "\n"
     ]
    },
    {
     "name": "stdout",
     "output_type": "stream",
     "text": [
      "\n",
      "      Epoch    GPU_mem   box_loss   cls_loss   dfl_loss  Instances       Size\n"
     ]
    },
    {
     "name": "stderr",
     "output_type": "stream",
     "text": [
      "        4/5      2.65G      2.785      4.551      2.367        323        640: 100%|██████████| 8/8 [00:00<00:00,  9.19it/s]\n",
      "                 Class     Images  Instances      Box(P          R      mAP50  mAP50-95): 100%|██████████| 4/4 [00:00<00:00,  6.13it/s]"
     ]
    },
    {
     "name": "stdout",
     "output_type": "stream",
     "text": [
      "                   all        128        929     0.0142     0.0144    0.00867    0.00124\n"
     ]
    },
    {
     "name": "stderr",
     "output_type": "stream",
     "text": [
      "\n"
     ]
    },
    {
     "name": "stdout",
     "output_type": "stream",
     "text": [
      "\n",
      "      Epoch    GPU_mem   box_loss   cls_loss   dfl_loss  Instances       Size\n"
     ]
    },
    {
     "name": "stderr",
     "output_type": "stream",
     "text": [
      "        5/5       2.7G      2.744      4.518      2.377        199        640: 100%|██████████| 8/8 [00:00<00:00,  9.12it/s]\n",
      "                 Class     Images  Instances      Box(P          R      mAP50  mAP50-95): 100%|██████████| 4/4 [00:00<00:00,  5.99it/s]"
     ]
    },
    {
     "name": "stdout",
     "output_type": "stream",
     "text": [
      "                   all        128        929    0.00335    0.00355     0.0012   0.000467\n"
     ]
    },
    {
     "name": "stderr",
     "output_type": "stream",
     "text": [
      "\n"
     ]
    },
    {
     "name": "stdout",
     "output_type": "stream",
     "text": [
      "\n",
      "5 epochs completed in 0.003 hours.\n",
      "Optimizer stripped from runs/detect/train33/weights/last.pt, 6.5MB\n",
      "Optimizer stripped from runs/detect/train33/weights/best.pt, 6.5MB\n",
      "\n",
      "Validating runs/detect/train33/weights/best.pt...\n",
      "Ultralytics YOLOv8.0.222 🚀 Python-3.10.12 torch-2.1.1+cu121 CUDA:0 (NVIDIA GeForce RTX 2080 SUPER, 7972MiB)\n",
      "Model summary (fused): 168 layers, 3151904 parameters, 0 gradients, 8.7 GFLOPs\n"
     ]
    },
    {
     "name": "stderr",
     "output_type": "stream",
     "text": [
      "                 Class     Images  Instances      Box(P          R      mAP50  mAP50-95): 100%|██████████| 4/4 [00:02<00:00,  1.95it/s]\n"
     ]
    },
    {
     "name": "stdout",
     "output_type": "stream",
     "text": [
      "                   all        128        929     0.0296    0.00116    0.00266    0.00103\n",
      "                person        128        254      0.101     0.0827     0.0398     0.0145\n",
      "               bicycle        128          6          0          0          0          0\n",
      "                   car        128         46          0          0          0          0\n",
      "            motorcycle        128          5          0          0          0          0\n",
      "              airplane        128          6          0          0          0          0\n",
      "                   bus        128          7          0          0          0          0\n",
      "                 train        128          3          0          0          0          0\n",
      "                 truck        128         12          0          0          0          0\n",
      "                  boat        128          6          0          0          0          0\n",
      "         traffic light        128         14          0          0          0          0\n",
      "             stop sign        128          2          0          0          0          0\n",
      "                 bench        128          9          0          0          0          0\n",
      "                  bird        128         16          0          0          0          0\n",
      "                   cat        128          4          0          0          0          0\n",
      "                   dog        128          9          0          0          0          0\n",
      "                 horse        128          2          0          0          0          0\n",
      "              elephant        128         17          0          0          0          0\n",
      "                  bear        128          1          0          0          0          0\n",
      "                 zebra        128          4          0          0          0          0\n",
      "               giraffe        128          9          0          0          0          0\n",
      "              backpack        128          6          0          0          0          0\n",
      "              umbrella        128         18          0          0          0          0\n",
      "               handbag        128         19          0          0          0          0\n",
      "                   tie        128          7          0          0          0          0\n",
      "              suitcase        128          4          0          0          0          0\n",
      "               frisbee        128          5          0          0          0          0\n",
      "                  skis        128          1          0          0          0          0\n",
      "             snowboard        128          7          0          0          0          0\n",
      "           sports ball        128          6          0          0          0          0\n",
      "                  kite        128         10          0          0          0          0\n",
      "          baseball bat        128          4          0          0          0          0\n",
      "        baseball glove        128          7          0          0          0          0\n",
      "            skateboard        128          5          0          0          0          0\n",
      "         tennis racket        128          7          0          0          0          0\n",
      "                bottle        128         18          0          0          0          0\n",
      "            wine glass        128         16          0          0          0          0\n",
      "                   cup        128         36          0          0          0          0\n",
      "                  fork        128          6          0          0          0          0\n",
      "                 knife        128         16          0          0          0          0\n",
      "                 spoon        128         22          0          0          0          0\n",
      "                  bowl        128         28          0          0          0          0\n",
      "                banana        128          1          0          0          0          0\n",
      "              sandwich        128          2          0          0          0          0\n",
      "                orange        128          4          0          0          0          0\n",
      "              broccoli        128         11          0          0          0          0\n",
      "                carrot        128         24          0          0          0          0\n",
      "               hot dog        128          2          0          0          0          0\n",
      "                 pizza        128          5          0          0          0          0\n",
      "                 donut        128         14          0          0          0          0\n",
      "                  cake        128          4          0          0          0          0\n",
      "                 chair        128         35          1          0          0          0\n",
      "                 couch        128          6          0          0          0          0\n",
      "          potted plant        128         14          0          0          0          0\n",
      "                   bed        128          3          0          0          0          0\n",
      "          dining table        128         13          1          0      0.149     0.0584\n",
      "                toilet        128          2          0          0          0          0\n",
      "                    tv        128          2          0          0          0          0\n",
      "                laptop        128          3          0          0          0          0\n",
      "                 mouse        128          2          0          0          0          0\n",
      "                remote        128          8          0          0          0          0\n",
      "            cell phone        128          8          0          0          0          0\n",
      "             microwave        128          3          0          0          0          0\n",
      "                  oven        128          5          0          0          0          0\n",
      "                  sink        128          6          0          0          0          0\n",
      "          refrigerator        128          5          0          0          0          0\n",
      "                  book        128         29          0          0          0          0\n",
      "                 clock        128          9          0          0          0          0\n",
      "                  vase        128          2          0          0          0          0\n",
      "              scissors        128          1          0          0          0          0\n",
      "            teddy bear        128         21          0          0          0          0\n",
      "            toothbrush        128          5          0          0          0          0\n",
      "Speed: 0.1ms preprocess, 10.8ms inference, 0.0ms loss, 3.0ms postprocess per image\n",
      "Results saved to \u001b[1mruns/detect/train33\u001b[0m\n",
      "Ultralytics YOLOv8.0.222 🚀 Python-3.10.12 torch-2.1.1+cu121 CUDA:0 (NVIDIA GeForce RTX 2080 SUPER, 7972MiB)\n",
      "Model summary (fused): 168 layers, 3151904 parameters, 0 gradients, 8.7 GFLOPs\n"
     ]
    },
    {
     "name": "stderr",
     "output_type": "stream",
     "text": [
      "\u001b[34m\u001b[1mval: \u001b[0mScanning /home/tyler/yolov5/datasets/coco128/labels/train2017.cache... 126 images, 2 backgrounds, 0 corrupt: 100%|██████████| 128/128 [00:00<?, ?it/s]\n",
      "                 Class     Images  Instances      Box(P          R      mAP50  mAP50-95): 100%|██████████| 8/8 [00:01<00:00,  4.01it/s]\n"
     ]
    },
    {
     "name": "stdout",
     "output_type": "stream",
     "text": [
      "                   all        128        929     0.0436    0.00128     0.0022   0.000492\n",
      "                person        128        254     0.0963     0.0906     0.0334     0.0129\n",
      "               bicycle        128          6          0          0          0          0\n",
      "                   car        128         46          0          0          0          0\n",
      "            motorcycle        128          5          0          0          0          0\n",
      "              airplane        128          6          0          0          0          0\n",
      "                   bus        128          7          0          0          0          0\n",
      "                 train        128          3          0          0          0          0\n",
      "                 truck        128         12          0          0          0          0\n",
      "                  boat        128          6          0          0          0          0\n",
      "         traffic light        128         14          0          0          0          0\n",
      "             stop sign        128          2          0          0          0          0\n",
      "                 bench        128          9          0          0          0          0\n",
      "                  bird        128         16          0          0          0          0\n",
      "                   cat        128          4          0          0          0          0\n",
      "                   dog        128          9          0          0          0          0\n",
      "                 horse        128          2          0          0          0          0\n",
      "              elephant        128         17          0          0          0          0\n",
      "                  bear        128          1          0          0          0          0\n",
      "                 zebra        128          4          0          0          0          0\n",
      "               giraffe        128          9          0          0          0          0\n",
      "              backpack        128          6          0          0          0          0\n",
      "              umbrella        128         18          0          0          0          0\n",
      "               handbag        128         19          0          0          0          0\n",
      "                   tie        128          7          0          0          0          0\n",
      "              suitcase        128          4          0          0          0          0\n",
      "               frisbee        128          5          0          0          0          0\n",
      "                  skis        128          1          0          0          0          0\n",
      "             snowboard        128          7          0          0          0          0\n",
      "           sports ball        128          6          0          0          0          0\n",
      "                  kite        128         10          0          0          0          0\n",
      "          baseball bat        128          4          0          0          0          0\n",
      "        baseball glove        128          7          0          0          0          0\n",
      "            skateboard        128          5          0          0          0          0\n",
      "         tennis racket        128          7          0          0          0          0\n",
      "                bottle        128         18          0          0          0          0\n",
      "            wine glass        128         16          0          0          0          0\n",
      "                   cup        128         36          0          0          0          0\n",
      "                  fork        128          6          0          0          0          0\n",
      "                 knife        128         16          0          0          0          0\n",
      "                 spoon        128         22          0          0          0          0\n",
      "                  bowl        128         28          1          0          0          0\n",
      "                banana        128          1          0          0          0          0\n",
      "              sandwich        128          2          0          0          0          0\n",
      "                orange        128          4          0          0          0          0\n",
      "              broccoli        128         11          0          0          0          0\n",
      "                carrot        128         24          0          0          0          0\n",
      "               hot dog        128          2          0          0          0          0\n",
      "                 pizza        128          5          0          0          0          0\n",
      "                 donut        128         14          0          0          0          0\n",
      "                  cake        128          4          0          0          0          0\n",
      "                 chair        128         35          1          0          0          0\n",
      "                 couch        128          6          0          0          0          0\n",
      "          potted plant        128         14          0          0          0          0\n",
      "                   bed        128          3          0          0          0          0\n",
      "          dining table        128         13          1          0      0.123     0.0221\n",
      "                toilet        128          2          0          0          0          0\n",
      "                    tv        128          2          0          0          0          0\n",
      "                laptop        128          3          0          0          0          0\n",
      "                 mouse        128          2          0          0          0          0\n",
      "                remote        128          8          0          0          0          0\n",
      "            cell phone        128          8          0          0          0          0\n",
      "             microwave        128          3          0          0          0          0\n",
      "                  oven        128          5          0          0          0          0\n",
      "                  sink        128          6          0          0          0          0\n",
      "          refrigerator        128          5          0          0          0          0\n",
      "                  book        128         29          0          0          0          0\n",
      "                 clock        128          9          0          0          0          0\n",
      "                  vase        128          2          0          0          0          0\n",
      "              scissors        128          1          0          0          0          0\n",
      "            teddy bear        128         21          0          0          0          0\n",
      "            toothbrush        128          5          0          0          0          0\n",
      "Speed: 0.1ms preprocess, 8.0ms inference, 0.0ms loss, 2.6ms postprocess per image\n",
      "Results saved to \u001b[1mruns/detect/train332\u001b[0m\n",
      "\n",
      "Found https://ultralytics.com/images/bus.jpg locally at bus.jpg\n",
      "image 1/1 /home/tyler/ultralytics/bus.jpg: 640x480 4 persons, 1 bus, 1 stop sign, 111.7ms\n",
      "Speed: 1.9ms preprocess, 111.7ms inference, 1.3ms postprocess per image at shape (1, 3, 640, 480)\n",
      "Ultralytics YOLOv8.0.222 🚀 Python-3.10.12 torch-2.1.1+cu121 CPU (AMD Ryzen 9 3950X 16-Core Processor)\n",
      "\n",
      "\u001b[34m\u001b[1mPyTorch:\u001b[0m starting from 'runs/detect/train33/weights/best.pt' with input shape (1, 3, 640, 640) BCHW and output shape(s) (1, 84, 8400) (6.2 MB)\n",
      "\n",
      "\u001b[34m\u001b[1mONNX:\u001b[0m starting export with onnx 1.15.0 opset 17...\n",
      "\u001b[34m\u001b[1mONNX:\u001b[0m export success ✅ 0.4s, saved as 'runs/detect/train33/weights/best.onnx' (12.2 MB)\n",
      "\n",
      "Export complete (1.7s)\n",
      "Results saved to \u001b[1m/home/tyler/ultralytics/runs/detect/train33/weights\u001b[0m\n",
      "Predict:         yolo predict task=detect model=runs/detect/train33/weights/best.onnx imgsz=640  \n",
      "Validate:        yolo val task=detect model=runs/detect/train33/weights/best.onnx imgsz=640 data=/home/tyler/ultralytics/ultralytics/cfg/datasets/coco128.yaml  \n",
      "Visualize:       https://netron.app\n"
     ]
    }
   ],
   "source": [
    "# Experiment 2: Data Augmentation\n",
    "model.train(data=\"coco128.yaml\", epochs=5, augment=True)  # enable data augmentation\n",
    "metrics = model.val()  # evaluate model performance on the validation set\n",
    "results = model(\"https://ultralytics.com/images/bus.jpg\")  # predict on an image\n",
    "path = model.export(format=\"onnx\")  # export the model to ONNX format"
   ]
  },
  {
   "cell_type": "code",
   "execution_count": 22,
   "metadata": {},
   "outputs": [
    {
     "name": "stdout",
     "output_type": "stream",
     "text": [
      "New https://pypi.org/project/ultralytics/8.0.223 available 😃 Update with 'pip install -U ultralytics'\n",
      "Ultralytics YOLOv8.0.222 🚀 Python-3.10.12 torch-2.1.1+cu121 CUDA:0 (NVIDIA GeForce RTX 2080 SUPER, 7972MiB)\n",
      "\u001b[34m\u001b[1mengine/trainer: \u001b[0mtask=detect, mode=train, model=yolov8n.pt, data=coco128.yaml, epochs=5, patience=50, batch=16, imgsz=640, save=True, save_period=-1, cache=False, device=None, workers=8, project=None, name=train333, exist_ok=False, pretrained=True, optimizer=auto, verbose=True, seed=0, deterministic=True, single_cls=False, rect=False, cos_lr=False, close_mosaic=10, resume=False, amp=True, fraction=1.0, profile=False, freeze=None, overlap_mask=True, mask_ratio=4, dropout=0.0, val=True, split=val, save_json=False, save_hybrid=False, conf=None, iou=0.7, max_det=300, half=False, dnn=False, plots=True, source=None, vid_stride=1, stream_buffer=False, visualize=False, augment=True, agnostic_nms=False, classes=None, retina_masks=False, show=False, save_frames=False, save_txt=False, save_conf=False, save_crop=False, show_labels=True, show_conf=True, show_boxes=True, line_width=None, format=torchscript, keras=False, optimize=False, int8=False, dynamic=False, simplify=False, opset=None, workspace=4, nms=False, lr0=0.001, lrf=0.0001, momentum=0.937, weight_decay=0.0005, warmup_epochs=3.0, warmup_momentum=0.8, warmup_bias_lr=0.0, box=7.5, cls=0.5, dfl=1.5, pose=12.0, kobj=1.0, label_smoothing=0.0, nbs=64, hsv_h=0.015, hsv_s=0.7, hsv_v=0.4, degrees=0.0, translate=0.1, scale=0.5, shear=0.5, perspective=0.0, flipud=0.0, fliplr=0.5, mosaic=1.0, mixup=0.0, copy_paste=0.0, cfg=None, tracker=botsort.yaml, save_dir=runs/detect/train333\n",
      "\n",
      "                   from  n    params  module                                       arguments                     \n",
      "  0                  -1  1       464  ultralytics.nn.modules.conv.Conv             [3, 16, 3, 2]                 \n",
      "  1                  -1  1      4672  ultralytics.nn.modules.conv.Conv             [16, 32, 3, 2]                \n",
      "  2                  -1  1      7360  ultralytics.nn.modules.block.C2f             [32, 32, 1, True]             \n",
      "  3                  -1  1     18560  ultralytics.nn.modules.conv.Conv             [32, 64, 3, 2]                \n",
      "  4                  -1  2     49664  ultralytics.nn.modules.block.C2f             [64, 64, 2, True]             \n",
      "  5                  -1  1     73984  ultralytics.nn.modules.conv.Conv             [64, 128, 3, 2]               \n",
      "  6                  -1  2    197632  ultralytics.nn.modules.block.C2f             [128, 128, 2, True]           \n",
      "  7                  -1  1    295424  ultralytics.nn.modules.conv.Conv             [128, 256, 3, 2]              \n",
      "  8                  -1  1    460288  ultralytics.nn.modules.block.C2f             [256, 256, 1, True]           \n",
      "  9                  -1  1    164608  ultralytics.nn.modules.block.SPPF            [256, 256, 5]                 \n",
      " 10                  -1  1         0  torch.nn.modules.upsampling.Upsample         [None, 2, 'nearest']          \n",
      " 11             [-1, 6]  1         0  ultralytics.nn.modules.conv.Concat           [1]                           \n",
      " 12                  -1  1    148224  ultralytics.nn.modules.block.C2f             [384, 128, 1]                 \n",
      " 13                  -1  1         0  torch.nn.modules.upsampling.Upsample         [None, 2, 'nearest']          \n",
      " 14             [-1, 4]  1         0  ultralytics.nn.modules.conv.Concat           [1]                           \n",
      " 15                  -1  1     37248  ultralytics.nn.modules.block.C2f             [192, 64, 1]                  \n",
      " 16                  -1  1     36992  ultralytics.nn.modules.conv.Conv             [64, 64, 3, 2]                \n",
      " 17            [-1, 12]  1         0  ultralytics.nn.modules.conv.Concat           [1]                           \n",
      " 18                  -1  1    123648  ultralytics.nn.modules.block.C2f             [192, 128, 1]                 \n",
      " 19                  -1  1    147712  ultralytics.nn.modules.conv.Conv             [128, 128, 3, 2]              \n",
      " 20             [-1, 9]  1         0  ultralytics.nn.modules.conv.Concat           [1]                           \n",
      " 21                  -1  1    493056  ultralytics.nn.modules.block.C2f             [384, 256, 1]                 \n",
      " 22        [15, 18, 21]  1    897664  ultralytics.nn.modules.head.Detect           [80, [64, 128, 256]]          \n",
      "Model summary: 225 layers, 3157200 parameters, 3157184 gradients, 8.9 GFLOPs\n",
      "\n",
      "Transferred 70/355 items from pretrained weights\n",
      "\u001b[34m\u001b[1mTensorBoard: \u001b[0mStart with 'tensorboard --logdir runs/detect/train333', view at http://localhost:6006/\n",
      "Freezing layer 'model.22.dfl.conv.weight'\n",
      "\u001b[34m\u001b[1mAMP: \u001b[0mrunning Automatic Mixed Precision (AMP) checks with YOLOv8n...\n",
      "\u001b[34m\u001b[1mAMP: \u001b[0mchecks passed ✅\n"
     ]
    },
    {
     "name": "stderr",
     "output_type": "stream",
     "text": [
      "\u001b[34m\u001b[1mtrain: \u001b[0mScanning /home/tyler/yolov5/datasets/coco128/labels/train2017.cache... 126 images, 2 backgrounds, 0 corrupt: 100%|██████████| 128/128 [00:00<?, ?it/s]\n",
      "\u001b[34m\u001b[1mval: \u001b[0mScanning /home/tyler/yolov5/datasets/coco128/labels/train2017.cache... 126 images, 2 backgrounds, 0 corrupt: 100%|██████████| 128/128 [00:00<?, ?it/s]\n"
     ]
    },
    {
     "name": "stdout",
     "output_type": "stream",
     "text": [
      "Plotting labels to runs/detect/train333/labels.jpg... \n",
      "\u001b[34m\u001b[1moptimizer:\u001b[0m 'optimizer=auto' found, ignoring 'lr0=0.001' and 'momentum=0.937' and determining best 'optimizer', 'lr0' and 'momentum' automatically... \n",
      "\u001b[34m\u001b[1moptimizer:\u001b[0m AdamW(lr=0.000119, momentum=0.9) with parameter groups 57 weight(decay=0.0), 64 weight(decay=0.0005), 63 bias(decay=0.0)\n",
      "Image sizes 640 train, 640 val\n",
      "Using 8 dataloader workers\n",
      "Logging results to \u001b[1mruns/detect/train333\u001b[0m\n",
      "Starting training for 5 epochs...\n",
      "\n",
      "      Epoch    GPU_mem   box_loss   cls_loss   dfl_loss  Instances       Size\n"
     ]
    },
    {
     "name": "stderr",
     "output_type": "stream",
     "text": [
      "        1/5      2.63G      2.715      4.597       2.38        178        640: 100%|██████████| 8/8 [00:01<00:00,  6.39it/s]\n",
      "                 Class     Images  Instances      Box(P          R      mAP50  mAP50-95): 100%|██████████| 4/4 [00:00<00:00,  5.85it/s]"
     ]
    },
    {
     "name": "stdout",
     "output_type": "stream",
     "text": [
      "                   all        128        929   4.35e-05    0.00849   7.42e-05   1.77e-05\n"
     ]
    },
    {
     "name": "stderr",
     "output_type": "stream",
     "text": [
      "\n"
     ]
    },
    {
     "name": "stdout",
     "output_type": "stream",
     "text": [
      "\n",
      "      Epoch    GPU_mem   box_loss   cls_loss   dfl_loss  Instances       Size\n"
     ]
    },
    {
     "name": "stderr",
     "output_type": "stream",
     "text": [
      "        2/5      2.63G      2.641      4.613      2.328        231        640: 100%|██████████| 8/8 [00:00<00:00,  8.63it/s]\n",
      "                 Class     Images  Instances      Box(P          R      mAP50  mAP50-95): 100%|██████████| 4/4 [00:00<00:00,  6.17it/s]"
     ]
    },
    {
     "name": "stdout",
     "output_type": "stream",
     "text": [
      "                   all        128        929   5.47e-05     0.0125   0.000134   2.99e-05\n"
     ]
    },
    {
     "name": "stderr",
     "output_type": "stream",
     "text": [
      "\n"
     ]
    },
    {
     "name": "stdout",
     "output_type": "stream",
     "text": [
      "\n",
      "      Epoch    GPU_mem   box_loss   cls_loss   dfl_loss  Instances       Size\n"
     ]
    },
    {
     "name": "stderr",
     "output_type": "stream",
     "text": [
      "        3/5      2.79G      2.666      4.529      2.328        178        640: 100%|██████████| 8/8 [00:00<00:00,  8.95it/s]\n",
      "                 Class     Images  Instances      Box(P          R      mAP50  mAP50-95): 100%|██████████| 4/4 [00:00<00:00,  6.25it/s]"
     ]
    },
    {
     "name": "stdout",
     "output_type": "stream",
     "text": [
      "                   all        128        929     0.0425    0.00672   0.000318    7.7e-05\n"
     ]
    },
    {
     "name": "stderr",
     "output_type": "stream",
     "text": [
      "\n"
     ]
    },
    {
     "name": "stdout",
     "output_type": "stream",
     "text": [
      "\n",
      "      Epoch    GPU_mem   box_loss   cls_loss   dfl_loss  Instances       Size\n"
     ]
    },
    {
     "name": "stderr",
     "output_type": "stream",
     "text": [
      "        4/5      2.61G      2.722      4.493      2.332        322        640: 100%|██████████| 8/8 [00:00<00:00,  8.93it/s]\n",
      "                 Class     Images  Instances      Box(P          R      mAP50  mAP50-95): 100%|██████████| 4/4 [00:00<00:00,  6.23it/s]"
     ]
    },
    {
     "name": "stdout",
     "output_type": "stream",
     "text": [
      "                   all        128        929     0.0427    0.00769     0.0014   0.000368\n"
     ]
    },
    {
     "name": "stderr",
     "output_type": "stream",
     "text": [
      "\n"
     ]
    },
    {
     "name": "stdout",
     "output_type": "stream",
     "text": [
      "\n",
      "      Epoch    GPU_mem   box_loss   cls_loss   dfl_loss  Instances       Size\n"
     ]
    },
    {
     "name": "stderr",
     "output_type": "stream",
     "text": [
      "        5/5      2.66G      2.669      4.458      2.333        199        640: 100%|██████████| 8/8 [00:00<00:00,  9.13it/s]\n",
      "                 Class     Images  Instances      Box(P          R      mAP50  mAP50-95): 100%|██████████| 4/4 [00:00<00:00,  6.10it/s]"
     ]
    },
    {
     "name": "stdout",
     "output_type": "stream",
     "text": [
      "                   all        128        929     0.0183    0.00496     0.0015    0.00039\n"
     ]
    },
    {
     "name": "stderr",
     "output_type": "stream",
     "text": [
      "\n"
     ]
    },
    {
     "name": "stdout",
     "output_type": "stream",
     "text": [
      "\n",
      "5 epochs completed in 0.003 hours.\n",
      "Optimizer stripped from runs/detect/train333/weights/last.pt, 6.5MB\n",
      "Optimizer stripped from runs/detect/train333/weights/best.pt, 6.5MB\n",
      "\n",
      "Validating runs/detect/train333/weights/best.pt...\n",
      "Ultralytics YOLOv8.0.222 🚀 Python-3.10.12 torch-2.1.1+cu121 CUDA:0 (NVIDIA GeForce RTX 2080 SUPER, 7972MiB)\n",
      "Model summary (fused): 168 layers, 3151904 parameters, 0 gradients, 8.7 GFLOPs\n"
     ]
    },
    {
     "name": "stderr",
     "output_type": "stream",
     "text": [
      "                 Class     Images  Instances      Box(P          R      mAP50  mAP50-95): 100%|██████████| 4/4 [00:01<00:00,  2.49it/s]\n"
     ]
    },
    {
     "name": "stdout",
     "output_type": "stream",
     "text": [
      "                   all        128        929      0.044   0.000998    0.00214   0.000887\n",
      "                person        128        254      0.121     0.0709     0.0337     0.0132\n",
      "               bicycle        128          6          0          0          0          0\n",
      "                   car        128         46          0          0          0          0\n",
      "            motorcycle        128          5          0          0          0          0\n",
      "              airplane        128          6          0          0          0          0\n",
      "                   bus        128          7          0          0          0          0\n",
      "                 train        128          3          0          0          0          0\n",
      "                 truck        128         12          0          0          0          0\n",
      "                  boat        128          6          0          0          0          0\n",
      "         traffic light        128         14          0          0          0          0\n",
      "             stop sign        128          2          0          0          0          0\n",
      "                 bench        128          9          0          0          0          0\n",
      "                  bird        128         16          0          0          0          0\n",
      "                   cat        128          4          0          0          0          0\n",
      "                   dog        128          9          0          0          0          0\n",
      "                 horse        128          2          0          0          0          0\n",
      "              elephant        128         17          0          0          0          0\n",
      "                  bear        128          1          0          0          0          0\n",
      "                 zebra        128          4          0          0          0          0\n",
      "               giraffe        128          9          0          0          0          0\n",
      "              backpack        128          6          0          0          0          0\n",
      "              umbrella        128         18          0          0          0          0\n",
      "               handbag        128         19          0          0          0          0\n",
      "                   tie        128          7          0          0          0          0\n",
      "              suitcase        128          4          0          0          0          0\n",
      "               frisbee        128          5          0          0          0          0\n",
      "                  skis        128          1          0          0          0          0\n",
      "             snowboard        128          7          0          0          0          0\n",
      "           sports ball        128          6          0          0          0          0\n",
      "                  kite        128         10          0          0          0          0\n",
      "          baseball bat        128          4          0          0          0          0\n",
      "        baseball glove        128          7          0          0          0          0\n",
      "            skateboard        128          5          0          0          0          0\n",
      "         tennis racket        128          7          0          0          0          0\n",
      "                bottle        128         18          0          0          0          0\n",
      "            wine glass        128         16          0          0          0          0\n",
      "                   cup        128         36          0          0          0          0\n",
      "                  fork        128          6          0          0          0          0\n",
      "                 knife        128         16          0          0          0          0\n",
      "                 spoon        128         22          0          0          0          0\n",
      "                  bowl        128         28          0          0          0          0\n",
      "                banana        128          1          0          0          0          0\n",
      "              sandwich        128          2          0          0          0          0\n",
      "                orange        128          4          0          0          0          0\n",
      "              broccoli        128         11          0          0          0          0\n",
      "                carrot        128         24          0          0          0          0\n",
      "               hot dog        128          2          0          0          0          0\n",
      "                 pizza        128          5          0          0          0          0\n",
      "                 donut        128         14          0          0          0          0\n",
      "                  cake        128          4          0          0          0          0\n",
      "                 chair        128         35          1          0          0          0\n",
      "                 couch        128          6          1          0          0          0\n",
      "          potted plant        128         14          0          0          0          0\n",
      "                   bed        128          3          0          0          0          0\n",
      "          dining table        128         13          1          0      0.119     0.0498\n",
      "                toilet        128          2          0          0          0          0\n",
      "                    tv        128          2          0          0          0          0\n",
      "                laptop        128          3          0          0          0          0\n",
      "                 mouse        128          2          0          0          0          0\n",
      "                remote        128          8          0          0          0          0\n",
      "            cell phone        128          8          0          0          0          0\n",
      "             microwave        128          3          0          0          0          0\n",
      "                  oven        128          5          0          0          0          0\n",
      "                  sink        128          6          0          0          0          0\n",
      "          refrigerator        128          5          0          0          0          0\n",
      "                  book        128         29          0          0          0          0\n",
      "                 clock        128          9          0          0          0          0\n",
      "                  vase        128          2          0          0          0          0\n",
      "              scissors        128          1          0          0          0          0\n",
      "            teddy bear        128         21          0          0          0          0\n",
      "            toothbrush        128          5          0          0          0          0\n",
      "Speed: 0.1ms preprocess, 3.5ms inference, 0.0ms loss, 4.8ms postprocess per image\n",
      "Results saved to \u001b[1mruns/detect/train333\u001b[0m\n",
      "Ultralytics YOLOv8.0.222 🚀 Python-3.10.12 torch-2.1.1+cu121 CUDA:0 (NVIDIA GeForce RTX 2080 SUPER, 7972MiB)\n",
      "Model summary (fused): 168 layers, 3151904 parameters, 0 gradients, 8.7 GFLOPs\n"
     ]
    },
    {
     "name": "stderr",
     "output_type": "stream",
     "text": [
      "\u001b[34m\u001b[1mval: \u001b[0mScanning /home/tyler/yolov5/datasets/coco128/labels/train2017.cache... 126 images, 2 backgrounds, 0 corrupt: 100%|██████████| 128/128 [00:00<?, ?it/s]\n",
      "                 Class     Images  Instances      Box(P          R      mAP50  mAP50-95): 100%|██████████| 8/8 [00:01<00:00,  4.61it/s]\n"
     ]
    },
    {
     "name": "stdout",
     "output_type": "stream",
     "text": [
      "                   all        128        929     0.0579   0.000887    0.00167   0.000662\n",
      "                person        128        254      0.108      0.063     0.0283     0.0119\n",
      "               bicycle        128          6          0          0          0          0\n",
      "                   car        128         46          0          0          0          0\n",
      "            motorcycle        128          5          0          0          0          0\n",
      "              airplane        128          6          0          0          0          0\n",
      "                   bus        128          7          0          0          0          0\n",
      "                 train        128          3          0          0          0          0\n",
      "                 truck        128         12          0          0          0          0\n",
      "                  boat        128          6          0          0          0          0\n",
      "         traffic light        128         14          0          0          0          0\n",
      "             stop sign        128          2          0          0          0          0\n",
      "                 bench        128          9          0          0          0          0\n",
      "                  bird        128         16          0          0          0          0\n",
      "                   cat        128          4          0          0          0          0\n",
      "                   dog        128          9          0          0          0          0\n",
      "                 horse        128          2          0          0          0          0\n",
      "              elephant        128         17          0          0          0          0\n",
      "                  bear        128          1          0          0          0          0\n",
      "                 zebra        128          4          0          0          0          0\n",
      "               giraffe        128          9          0          0          0          0\n",
      "              backpack        128          6          0          0          0          0\n",
      "              umbrella        128         18          0          0          0          0\n",
      "               handbag        128         19          0          0          0          0\n",
      "                   tie        128          7          0          0          0          0\n",
      "              suitcase        128          4          0          0          0          0\n",
      "               frisbee        128          5          0          0          0          0\n",
      "                  skis        128          1          0          0          0          0\n",
      "             snowboard        128          7          0          0          0          0\n",
      "           sports ball        128          6          0          0          0          0\n",
      "                  kite        128         10          0          0          0          0\n",
      "          baseball bat        128          4          0          0          0          0\n",
      "        baseball glove        128          7          0          0          0          0\n",
      "            skateboard        128          5          0          0          0          0\n",
      "         tennis racket        128          7          0          0          0          0\n",
      "                bottle        128         18          0          0          0          0\n",
      "            wine glass        128         16          0          0          0          0\n",
      "                   cup        128         36          0          0          0          0\n",
      "                  fork        128          6          0          0          0          0\n",
      "                 knife        128         16          0          0          0          0\n",
      "                 spoon        128         22          0          0          0          0\n",
      "                  bowl        128         28          1          0          0          0\n",
      "                banana        128          1          0          0          0          0\n",
      "              sandwich        128          2          0          0          0          0\n",
      "                orange        128          4          0          0          0          0\n",
      "              broccoli        128         11          0          0          0          0\n",
      "                carrot        128         24          0          0          0          0\n",
      "               hot dog        128          2          0          0          0          0\n",
      "                 pizza        128          5          0          0          0          0\n",
      "                 donut        128         14          0          0          0          0\n",
      "                  cake        128          4          0          0          0          0\n",
      "                 chair        128         35          1          0          0          0\n",
      "                 couch        128          6          1          0          0          0\n",
      "          potted plant        128         14          0          0          0          0\n",
      "                   bed        128          3          0          0          0          0\n",
      "          dining table        128         13          1          0     0.0901     0.0351\n",
      "                toilet        128          2          0          0          0          0\n",
      "                    tv        128          2          0          0          0          0\n",
      "                laptop        128          3          0          0          0          0\n",
      "                 mouse        128          2          0          0          0          0\n",
      "                remote        128          8          0          0          0          0\n",
      "            cell phone        128          8          0          0          0          0\n",
      "             microwave        128          3          0          0          0          0\n",
      "                  oven        128          5          0          0          0          0\n",
      "                  sink        128          6          0          0          0          0\n",
      "          refrigerator        128          5          0          0          0          0\n",
      "                  book        128         29          0          0          0          0\n",
      "                 clock        128          9          0          0          0          0\n",
      "                  vase        128          2          0          0          0          0\n",
      "              scissors        128          1          0          0          0          0\n",
      "            teddy bear        128         21          0          0          0          0\n",
      "            toothbrush        128          5          0          0          0          0\n",
      "Speed: 0.1ms preprocess, 5.0ms inference, 0.0ms loss, 4.1ms postprocess per image\n",
      "Results saved to \u001b[1mruns/detect/train3332\u001b[0m\n",
      "\n",
      "Found https://ultralytics.com/images/bus.jpg locally at bus.jpg\n",
      "image 1/1 /home/tyler/ultralytics/bus.jpg: 640x480 4 persons, 1 bus, 1 stop sign, 28.3ms\n",
      "Speed: 1.7ms preprocess, 28.3ms inference, 1.2ms postprocess per image at shape (1, 3, 640, 480)\n",
      "Ultralytics YOLOv8.0.222 🚀 Python-3.10.12 torch-2.1.1+cu121 CPU (AMD Ryzen 9 3950X 16-Core Processor)\n",
      "\n",
      "\u001b[34m\u001b[1mPyTorch:\u001b[0m starting from 'runs/detect/train333/weights/best.pt' with input shape (1, 3, 640, 640) BCHW and output shape(s) (1, 84, 8400) (6.2 MB)\n",
      "\n",
      "\u001b[34m\u001b[1mONNX:\u001b[0m starting export with onnx 1.15.0 opset 17...\n",
      "\u001b[34m\u001b[1mONNX:\u001b[0m export success ✅ 0.4s, saved as 'runs/detect/train333/weights/best.onnx' (12.2 MB)\n",
      "\n",
      "Export complete (1.7s)\n",
      "Results saved to \u001b[1m/home/tyler/ultralytics/runs/detect/train333/weights\u001b[0m\n",
      "Predict:         yolo predict task=detect model=runs/detect/train333/weights/best.onnx imgsz=640  \n",
      "Validate:        yolo val task=detect model=runs/detect/train333/weights/best.onnx imgsz=640 data=/home/tyler/ultralytics/ultralytics/cfg/datasets/coco128.yaml  \n",
      "Visualize:       https://netron.app\n"
     ]
    }
   ],
   "source": [
    "# Experiment 3: Shearing\n",
    "model.train(data=\"coco128.yaml\", epochs=5, shear=0.5, lr0=0.001)  # shearing\n",
    "metrics = model.val()  # evaluate model performance on the validation set\n",
    "results = model(\"https://ultralytics.com/images/bus.jpg\")  # predict on an image\n",
    "path = model.export(format=\"onnx\")  # export the model to ONNX format"
   ]
  },
  {
   "cell_type": "markdown",
   "metadata": {},
   "source": [
    "I will summarize the results of all three experiments here: They are appear to perform much worse than the orginial model. This would suggest I either need to increase the number of epochs to increase the chance of it recognizing complex datasets or that the base model is fairly fine tuned. "
   ]
  }
 ],
 "metadata": {
  "kernelspec": {
   "display_name": "Python 3",
   "language": "python",
   "name": "python3"
  },
  "language_info": {
   "codemirror_mode": {
    "name": "ipython",
    "version": 3
   },
   "file_extension": ".py",
   "mimetype": "text/x-python",
   "name": "python",
   "nbconvert_exporter": "python",
   "pygments_lexer": "ipython3",
   "version": "3.10.12"
  }
 },
 "nbformat": 4,
 "nbformat_minor": 2
}
